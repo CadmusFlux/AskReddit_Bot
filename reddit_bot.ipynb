{
 "cells": [
  {
   "cell_type": "code",
   "execution_count": 51,
   "metadata": {
    "cell_id": "00000-d7bef6d8-52bb-4da3-82be-f09491aeb11a",
    "deepnote_cell_type": "code",
    "execution_millis": 696,
    "execution_start": 1606834122810,
    "output_cleared": false,
    "source_hash": "3c1031e",
    "tags": []
   },
   "outputs": [],
   "source": [
    "import praw\n",
    "import csv\n",
    "import nltk"
   ]
  },
  {
   "cell_type": "markdown",
   "metadata": {
    "cell_id": "00001-595135fa-adf0-4e0e-9044-acd10b31386a",
    "deepnote_cell_type": "markdown",
    "output_cleared": false,
    "tags": []
   },
   "source": [
    "# Intializing reddit client"
   ]
  },
  {
   "cell_type": "code",
   "execution_count": 52,
   "metadata": {
    "cell_id": "00001-f16ce037-9e95-4d19-a1e6-7dcace95b413",
    "deepnote_cell_type": "code",
    "execution_millis": 0,
    "execution_start": 1606834123530,
    "output_cleared": false,
    "source_hash": "c60c389a",
    "tags": []
   },
   "outputs": [],
   "source": [
    "reddit = praw.Reddit(client_id = 'nz04TlX3jb7wHw', client_secret = 'nXjxefn8FSkCH04dxihWFlFdOcTFrA',\n",
    "                     username = 'Trapnova',password = 'ayush@flash121',\n",
    "                     user_agent = 'prawTutorial')"
   ]
  },
  {
   "cell_type": "code",
   "execution_count": 53,
   "metadata": {
    "cell_id": "00001-557e4acc-9a0c-4a49-b0e9-f524e8aebc4b",
    "deepnote_cell_type": "code",
    "execution_millis": 0,
    "execution_start": 1606834123531,
    "output_cleared": false,
    "source_hash": "7d621e95",
    "tags": []
   },
   "outputs": [],
   "source": [
    "subreddit = reddit.subreddit('AskReddit')\n",
    "hot_python = subreddit.top(limit = 900)"
   ]
  },
  {
   "cell_type": "code",
   "execution_count": 54,
   "metadata": {
    "cell_id": "00002-a8046ebe-9248-499f-a711-f0d1280d7bf7",
    "deepnote_cell_type": "code",
    "execution_millis": 0,
    "execution_start": 1606834123532,
    "output_cleared": false,
    "source_hash": "66ca55c2",
    "tags": []
   },
   "outputs": [],
   "source": [
    "title = []\n",
    "question = []\n",
    "score = []\n",
    "date = []\n",
    "num_comments = []\n",
    "score_ratio = []\n",
    "count = 0"
   ]
  },
  {
   "cell_type": "markdown",
   "metadata": {
    "cell_id": "00005-b1840b54-941d-4da3-96c8-89bbb294d75d",
    "deepnote_cell_type": "markdown",
    "output_cleared": false,
    "tags": []
   },
   "source": [
    "# Function for Implementing Unix to year"
   ]
  },
  {
   "cell_type": "code",
   "execution_count": 55,
   "metadata": {
    "cell_id": "00003-59bcbf84-0ab1-448e-ab46-416e95d9037d",
    "deepnote_cell_type": "code",
    "execution_millis": 1,
    "execution_start": 1606834123533,
    "output_cleared": false,
    "source_hash": "c311bf4d",
    "tags": []
   },
   "outputs": [],
   "source": [
    "def unix_year(time):\n",
    "  month = ((time/86400)//365)\n",
    "  year = 1970 + int(month)\n",
    "  return year"
   ]
  },
  {
   "cell_type": "markdown",
   "metadata": {
    "cell_id": "00007-eb929bf8-d854-477d-a643-4bbf0b9d95bc",
    "deepnote_cell_type": "markdown",
    "output_cleared": false,
    "tags": []
   },
   "source": [
    "# Extracting information from reddit and storing it into respective List "
   ]
  },
  {
   "cell_type": "code",
   "execution_count": 56,
   "metadata": {
    "cell_id": "00009-afee9c71-b598-41b1-92ba-f003ba1b20da",
    "deepnote_cell_type": "code",
    "execution_millis": 1299,
    "execution_start": 1606834123578,
    "output_cleared": false,
    "source_hash": "3201f2d5",
    "tags": []
   },
   "outputs": [],
   "source": [
    "for submission in hot_python:\n",
    "    \n",
    "    if not submission.stickied:\n",
    "        \n",
    "        question.append(submission.title)\n",
    "        title.append(submission.title.split())\n",
    "        score.append(submission.score)\n",
    "        time = submission.created\n",
    "        date.append(unix_year(time))\n",
    "        num_comments.append(submission.num_comments)\n",
    "        score_ratio.append(submission.upvote_ratio)"
   ]
  },
  {
   "cell_type": "markdown",
   "metadata": {
    "cell_id": "00009-39142dad-469d-402f-b432-98cdf30e5a75",
    "deepnote_cell_type": "markdown",
    "output_cleared": false,
    "tags": []
   },
   "source": [
    "# Importing and implememnting stop words from nltk corpus on title list"
   ]
  },
  {
   "cell_type": "code",
   "execution_count": 57,
   "metadata": {
    "cell_id": "00004-0305991d-aca3-424d-a002-5347645e223e",
    "deepnote_cell_type": "code",
    "execution_millis": 36,
    "execution_start": 1606834124881,
    "output_cleared": false,
    "source_hash": "a26e6313",
    "tags": []
   },
   "outputs": [
    {
     "name": "stderr",
     "output_type": "stream",
     "text": [
      "[nltk_data] Downloading package stopwords to /root/nltk_data...\n",
      "[nltk_data]   Package stopwords is already up-to-date!\n"
     ]
    }
   ],
   "source": [
    "from nltk.corpus import stopwords\n",
    "nltk.download('stopwords')\n",
    "stop_words = set(stopwords.words(\"english\"))\n"
   ]
  },
  {
   "cell_type": "code",
   "execution_count": 58,
   "metadata": {
    "cell_id": "00011-39d5ad99-f504-4589-849d-a1c61dc6ed38",
    "deepnote_cell_type": "code",
    "execution_millis": 2,
    "execution_start": 1606834124921,
    "output_cleared": false,
    "source_hash": "971341e7",
    "tags": []
   },
   "outputs": [],
   "source": [
    "title1 = [[]]*len(title)"
   ]
  },
  {
   "cell_type": "code",
   "execution_count": 59,
   "metadata": {
    "cell_id": "00012-cb0067a4-5cb4-49b8-a4ba-3456842b7ace",
    "deepnote_cell_type": "code",
    "execution_millis": 1,
    "execution_start": 1606834124927,
    "output_cleared": false,
    "source_hash": "f486b76d",
    "tags": []
   },
   "outputs": [],
   "source": [
    "import string"
   ]
  },
  {
   "cell_type": "code",
   "execution_count": 60,
   "metadata": {
    "cell_id": "00013-b9552e37-c16a-43e1-bdfd-0813e712c1f3",
    "deepnote_cell_type": "code",
    "execution_millis": 2,
    "execution_start": 1606834124931,
    "output_cleared": false,
    "source_hash": "f522866b",
    "tags": []
   },
   "outputs": [],
   "source": [
    "punctuation = '!#$%&\\\"()*+,-./:;<=>?@[\\\\]^_`{|}~'"
   ]
  },
  {
   "cell_type": "code",
   "execution_count": 61,
   "metadata": {
    "cell_id": "00005-f943eaec-6f2f-49a6-afb8-18d6b8a8c199",
    "deepnote_cell_type": "code",
    "execution_millis": 0,
    "execution_start": 1606834124977,
    "output_cleared": false,
    "source_hash": "e6c04caa",
    "tags": []
   },
   "outputs": [],
   "source": [
    "for i in range(len(title)):\n",
    "    x = []\n",
    "    for j in range(len(title[i])):\n",
    "        if title[i][j] in stop_words:\n",
    "            pass\n",
    "        else:\n",
    "            x.append(title[i][j].translate(str.maketrans(\"\",\"\",punctuation)))\n",
    "    title1[i] = x"
   ]
  },
  {
   "cell_type": "markdown",
   "metadata": {
    "cell_id": "00013-8b5452ec-944f-4197-b01b-acac352c0dbf",
    "deepnote_cell_type": "markdown",
    "output_cleared": false,
    "tags": []
   },
   "source": [
    "# Lemmatizing the words"
   ]
  },
  {
   "cell_type": "code",
   "execution_count": 62,
   "metadata": {},
   "outputs": [
    {
     "name": "stderr",
     "output_type": "stream",
     "text": [
      "[nltk_data] Downloading package wordnet to /root/nltk_data...\n",
      "[nltk_data]   Package wordnet is already up-to-date!\n"
     ]
    }
   ],
   "source": [
    "nltk.download('wordnet')\n",
    "from nltk.stem import WordNetLemmatizer\n",
    "wordnet_lemmatizer = WordNetLemmatizer()\n",
    "\n",
    "\n",
    "\n",
    "for i in range(len(title1)):\n",
    "    for j in range(len(title1[i])):\n",
    "        title1[i][j] = title1[i][j].replace(\",\",\"\")\n",
    "        title1[i][j] = wordnet_lemmatizer.lemmatize(title1[i][j],pos = 'v')\n",
    "\n"
   ]
  },
  {
   "cell_type": "code",
   "execution_count": 63,
   "metadata": {
    "cell_id": "00017-5066cbeb-63fb-458f-8b86-6e405f261e49",
    "deepnote_cell_type": "code",
    "execution_millis": 1,
    "execution_start": 1606834126426,
    "is_code_hidden": true,
    "output_cleared": false,
    "source_hash": "dc910d78",
    "tags": []
   },
   "outputs": [],
   "source": [
    "# Initial Version\n",
    "# Until here the code is in preferred format where the title 1 and title 1 stores the individual \n",
    "# words in a sentence in the same list but after here we're storing each word as a key whereas we \n",
    "# want to store each Question/sentence as a key and each word as different value. But here we're\n",
    "# going to store all the words that belong to one question as a single list. SO if there are 10000 questions\n",
    "# there will be  a column called words which will have 10000 items and each item will be a list containing the\n",
    "# words in the question seperated by comma\n",
    "\n",
    "# --------------------------------------------------------------\n",
    "# words = {}\n",
    "#--------------------------------------------------------------\n",
    "\n",
    "# for i in range(len(title1)):\n",
    "#     for j in range(len(title1[i])):\n",
    "#         curr_word = title1[i][j]\n",
    "#         # print(words.keys())\n",
    "#         if curr_word in words.keys():\n",
    "#             words[curr_word][4] += 1\n",
    "#             words[curr_word][0] = words[curr_word][0]+score[i]\n",
    "#             words[curr_word][1] = words[curr_word][1]+date[i]\n",
    "#             words[curr_word][2] = words[curr_word][2]+num_comments[i]\n",
    "#             words[curr_word][3] = words[curr_word][3]+score_ratio[i]\n",
    "#         else:\n",
    "#             words[curr_word] = [score[i],date[i],num_comments[i],score_ratio[i],1]\n",
    "\n",
    "#--------------------------------------------------------\n",
    "\n",
    "# Averaging each value in the dictionary based on the number of times it appears\n",
    "# Divide each value by it's count also check first if the 4 index of the dictionary has > 1 value.\n",
    "\n",
    "#--------------------------------------------------------\n",
    "\n",
    "# for i in words.keys():\n",
    "#     if words[i][4]>1:\n",
    "#         words[i][0] = words[i][0]/words[i][4]\n",
    "#         words[i][1] = words[i][1]/words[i][4]\n",
    "#         words[i][2] = words[i][2]/words[i][4]\n",
    "#         words[i][3] = words[i][3]/words[i][4]\n",
    "\n",
    "#--------------------------------------------------------\n",
    "\n",
    "# Writing list into csv file.\n",
    "\n",
    "#--------------------------------------------------------\n",
    "\n",
    "# with open(\"data.csv\",\"w\",newline = \"\") as file:\n",
    "\n",
    "#     writer = csv.writer(file)\n",
    "#     writer.writerow([\"Title\",\"Score\",\"Date\",\"Num_comments\",\"Score_ratio\",\"Count\"])\n",
    "    \n",
    "#     for i in words.keys():\n",
    "#             writer.writerow([i,words[i][0],words[i][1],words[i][2],words[i][3],words[i][4]])"
   ]
  },
  {
   "cell_type": "markdown",
   "metadata": {
    "cell_id": "00017-04f2f2fa-17f9-493c-9676-8cffbd22d8d5",
    "deepnote_cell_type": "markdown",
    "output_cleared": false,
    "tags": []
   },
   "source": [
    "# DICTIONARY"
   ]
  },
  {
   "cell_type": "code",
   "execution_count": 64,
   "metadata": {
    "cell_id": "00027-08034688-b558-42c3-a3ba-b4bd60bf351f",
    "deepnote_cell_type": "code",
    "execution_millis": 2,
    "execution_start": 1606834126430,
    "output_cleared": false,
    "source_hash": "394db5fe",
    "tags": []
   },
   "outputs": [],
   "source": [
    "words1 = {}"
   ]
  },
  {
   "cell_type": "code",
   "execution_count": 65,
   "metadata": {
    "cell_id": "00027-97f2c5a2-55c8-4bd7-b375-dd84a1ba5f46",
    "deepnote_cell_type": "code",
    "execution_millis": 2,
    "execution_start": 1606834126435,
    "output_cleared": false,
    "source_hash": "66305263",
    "tags": []
   },
   "outputs": [],
   "source": [
    "for i in range(len(title)):\n",
    "    words1[question[i]] = [title1[i],score[i],date[i],num_comments[i],score_ratio[i]]"
   ]
  },
  {
   "cell_type": "code",
   "execution_count": 66,
   "metadata": {
    "cell_id": "00022-fa55ee9a-c64a-4416-a76b-188875e0fb04",
    "deepnote_cell_type": "code",
    "execution_millis": 2,
    "execution_start": 1606834126446,
    "is_code_hidden": true,
    "output_cleared": false,
    "source_hash": "d46426c9",
    "tags": []
   },
   "outputs": [],
   "source": [
    "# Writing to CSV FIle\n",
    "# Tis IS REDUNDANT\n",
    "\n",
    "\n",
    "# with open(\"data.csv\",\"w\",newline = \"\") as file:\n",
    "\n",
    "#     writer = csv.writer(file)\n",
    "#     writer.writerow([\"Question\",\"Title\",\"Score\",\"Date\",\"Num_comments\",\"Score_ratio\",\"Count\"])\n",
    "    \n",
    "#     for i in words1.keys():\n",
    "#             writer.writerow([i,words1[i][0],words1[i][1],words1[i][2],words1[i][3],words1[i][4]])\n",
    "\n",
    "\n",
    "# The below line is for using Dictionary to Csv file and then using it in Fit_transform\n",
    "# values = [[i] for i in reddit_data[\"Title\"]]\n",
    "# [['People'], ['pooped'], ['pooped']]"
   ]
  },
  {
   "cell_type": "markdown",
   "metadata": {
    "cell_id": "00020-f93edbb0-9ead-4f1f-a93c-7aff475f75c6",
    "deepnote_cell_type": "markdown",
    "output_cleared": false,
    "tags": []
   },
   "source": [
    "# Pandas"
   ]
  },
  {
   "cell_type": "code",
   "execution_count": 67,
   "metadata": {
    "cell_id": "00025-bd322e36-7fc5-4e17-b46e-55694f93da09",
    "deepnote_cell_type": "code",
    "execution_millis": 5,
    "execution_start": 1606834126454,
    "output_cleared": false,
    "source_hash": "cb1d94a2",
    "tags": []
   },
   "outputs": [],
   "source": [
    "import pandas as pd\n",
    "\n",
    "# reddit_data = pd.read_csv('/home/jovyan/work/data.csv')\n"
   ]
  },
  {
   "cell_type": "markdown",
   "metadata": {
    "cell_id": "00022-df41459c-3e38-4c45-a8ba-02743f31cdec",
    "deepnote_cell_type": "markdown",
    "output_cleared": false,
    "tags": []
   },
   "source": [
    "# Storing classes for MLB"
   ]
  },
  {
   "cell_type": "code",
   "execution_count": 68,
   "metadata": {
    "cell_id": "00027-64512e40-8332-4775-97d6-a32b4bee7e5e",
    "deepnote_cell_type": "code",
    "execution_millis": 0,
    "execution_start": 1606834126483,
    "output_cleared": false,
    "source_hash": "414a441a",
    "tags": []
   },
   "outputs": [],
   "source": [
    "# Below Line is used using Pandas to Dictionary:\n",
    "# So Words is converted to pandas dataframe and then fit_transform is applied."
   ]
  },
  {
   "cell_type": "code",
   "execution_count": 69,
   "metadata": {
    "cell_id": "00028-94de25c7-dd46-49ad-8542-7cd9ec2808e4",
    "deepnote_cell_type": "code",
    "execution_millis": 0,
    "execution_start": 1606834126484,
    "output_cleared": false,
    "source_hash": "b1fe79bf",
    "tags": []
   },
   "outputs": [],
   "source": [
    "labels = []\n",
    "for i in title1:\n",
    "    for j in i:\n",
    "        if j in labels:\n",
    "            pass\n",
    "        else:\n",
    "            labels.append(j)"
   ]
  },
  {
   "cell_type": "code",
   "execution_count": 70,
   "metadata": {},
   "outputs": [
    {
     "data": {
      "text/plain": [
       "2711"
      ]
     },
     "execution_count": 70,
     "metadata": {},
     "output_type": "execute_result"
    }
   ],
   "source": [
    "len(labels)"
   ]
  },
  {
   "cell_type": "markdown",
   "metadata": {
    "cell_id": "00025-20f79856-49c2-4991-8e53-775da63ff1e9",
    "deepnote_cell_type": "markdown",
    "output_cleared": false,
    "tags": []
   },
   "source": [
    "# Storing Dictionary as Dataframe"
   ]
  },
  {
   "cell_type": "code",
   "execution_count": 71,
   "metadata": {
    "cell_id": "00027-b80f960b-18d0-4a81-9536-d307dfc78df5",
    "deepnote_cell_type": "code",
    "execution_millis": 0,
    "execution_start": 1606834126485,
    "output_cleared": false,
    "source_hash": "4f11b1a1",
    "tags": []
   },
   "outputs": [],
   "source": [
    "xyz = pd.DataFrame.from_dict(words1,orient=\"index\",columns=[\"Title\",\"Score\",\"Date\",\"Num_comments\",\"Score_ratio\"])"
   ]
  },
  {
   "cell_type": "code",
   "execution_count": 72,
   "metadata": {
    "cell_id": "00029-a82fa309-7230-44d6-9e87-7a59ddfb7134",
    "deepnote_cell_type": "code",
    "execution_millis": 2,
    "execution_start": 1606834126486,
    "output_cleared": false,
    "source_hash": "ed3d5b94",
    "tags": []
   },
   "outputs": [],
   "source": [
    "# MultiLabelBinarizer\n",
    "# txt = [['book', 'read'],['cup', 'drink']]\n",
    "# mlb = MultiLabelBinarizer(classes=(\"drink\",\"cup\",\"book\", \"read\"))\n",
    "# mlb.fit_transform(txt)\n",
    "# array([[0, 0, 1, 1],\n",
    "#        [1, 1, 0, 0]])"
   ]
  },
  {
   "cell_type": "markdown",
   "metadata": {
    "cell_id": "00028-26886685-a459-48cf-a912-5445f362084b",
    "deepnote_cell_type": "markdown",
    "output_cleared": false,
    "tags": []
   },
   "source": [
    "# Multi-Label Binarizer"
   ]
  },
  {
   "cell_type": "code",
   "execution_count": 73,
   "metadata": {
    "cell_id": "00029-0759a089-e95d-4499-b070-77ce37675c4d",
    "deepnote_cell_type": "code",
    "execution_millis": 1,
    "execution_start": 1606834126489,
    "output_cleared": false,
    "source_hash": "c1bb7d64",
    "tags": []
   },
   "outputs": [],
   "source": [
    "from sklearn.preprocessing import MultiLabelBinarizer\n",
    "mlb = MultiLabelBinarizer(classes = labels)"
   ]
  },
  {
   "cell_type": "code",
   "execution_count": 74,
   "metadata": {
    "cell_id": "00029-8cc64bec-b04a-4f03-af58-ba5c0a107435",
    "deepnote_cell_type": "code",
    "execution_millis": 1,
    "execution_start": 1606834126499,
    "output_cleared": false,
    "source_hash": "70b56ded",
    "tags": []
   },
   "outputs": [],
   "source": [
    "ft = mlb.fit_transform(xyz[\"Title\"])"
   ]
  },
  {
   "cell_type": "code",
   "execution_count": 75,
   "metadata": {
    "cell_id": "00030-5b80025e-33e3-4e27-9ac3-c3e05fff3cd2",
    "deepnote_cell_type": "code",
    "execution_millis": 11,
    "execution_start": 1606834126500,
    "output_cleared": false,
    "source_hash": "a8e2259c",
    "tags": []
   },
   "outputs": [],
   "source": [
    "column = pd.DataFrame(ft,columns=labels)\n",
    "column.index = xyz.index\n",
    "xyz = pd.concat([xyz,column],axis=1)"
   ]
  },
  {
   "cell_type": "markdown",
   "metadata": {
    "cell_id": "00039-e1e14a45-e3e7-4835-8e24-a8d99a7cf7a7",
    "deepnote_cell_type": "markdown",
    "output_cleared": false,
    "tags": []
   },
   "source": [
    "# Use sci kit learn\n"
   ]
  },
  {
   "cell_type": "code",
   "execution_count": 76,
   "metadata": {},
   "outputs": [],
   "source": [
    "from sklearn.model_selection import train_test_split\n",
    "from sklearn.linear_model import LinearRegression"
   ]
  },
  {
   "cell_type": "code",
   "execution_count": 77,
   "metadata": {},
   "outputs": [],
   "source": [
    "\n",
    "X = xyz.iloc[:,5:]\n"
   ]
  },
  {
   "cell_type": "code",
   "execution_count": 78,
   "metadata": {},
   "outputs": [],
   "source": [
    "X = X.reset_index(drop= True)"
   ]
  },
  {
   "cell_type": "code",
   "execution_count": 79,
   "metadata": {},
   "outputs": [],
   "source": [
    "Y =  pd.DataFrame(xyz.iloc[:,1])\n",
    "\n",
    "# remove row index labels\n",
    "\n",
    "Y = Y.reset_index(drop=True)"
   ]
  },
  {
   "cell_type": "code",
   "execution_count": 80,
   "metadata": {},
   "outputs": [],
   "source": [
    "X_train, X_test, y_train, y_test = train_test_split(X, Y, test_size=0.2)"
   ]
  },
  {
   "cell_type": "code",
   "execution_count": 81,
   "metadata": {},
   "outputs": [
    {
     "data": {
      "text/plain": [
       "((716, 2711), (179, 2711), (716, 1), (179, 1))"
      ]
     },
     "execution_count": 81,
     "metadata": {},
     "output_type": "execute_result"
    }
   ],
   "source": [
    "X_train.shape, X_test.shape, y_train.shape, y_test.shape"
   ]
  },
  {
   "cell_type": "code",
   "execution_count": 82,
   "metadata": {},
   "outputs": [
    {
     "data": {
      "text/plain": [
       "LinearRegression(copy_X=True, fit_intercept=True, n_jobs=None, normalize=False)"
      ]
     },
     "execution_count": 82,
     "metadata": {},
     "output_type": "execute_result"
    }
   ],
   "source": [
    "linear = LinearRegression()\n",
    "linear.fit(X_train,y_train)"
   ]
  },
  {
   "cell_type": "code",
   "execution_count": 83,
   "metadata": {},
   "outputs": [],
   "source": [
    "pred = linear.predict(X_test)"
   ]
  },
  {
   "cell_type": "code",
   "execution_count": 89,
   "metadata": {},
   "outputs": [],
   "source": [
    "from sklearn.metrics import r2_score\n",
    "import matplotlib.pyplot as plt\n",
    "import numpy as np"
   ]
  },
  {
   "cell_type": "code",
   "execution_count": 90,
   "metadata": {},
   "outputs": [
    {
     "data": {
      "text/plain": [
       "179"
      ]
     },
     "execution_count": 90,
     "metadata": {},
     "output_type": "execute_result"
    }
   ],
   "source": [
    "X_test.shape[0]"
   ]
  },
  {
   "cell_type": "code",
   "execution_count": 92,
   "metadata": {},
   "outputs": [],
   "source": [
    "x_axiss = np.arange(X_test.shape[0]).reshape(-1,1)"
   ]
  },
  {
   "cell_type": "code",
   "execution_count": 104,
   "metadata": {},
   "outputs": [
    {
     "data": {
      "text/plain": [
       "(     People  pooped  2019  yet  still  hold  last  years  shit  Would  ...  \\\n",
       " 133       0       0     0    0      0     0     0      0     0      0  ...   \n",
       " 136       0       0     0    0      0     0     0      0     0      1  ...   \n",
       " 741       0       0     0    0      0     0     0      0     0      0  ...   \n",
       " 705       0       0     0    0      0     0     0      0     0      0  ...   \n",
       " 67        0       0     0    0      0     0     0      1     0      0  ...   \n",
       " ..      ...     ...   ...  ...    ...   ...   ...    ...   ...    ...  ...   \n",
       " 329       0       0     0    0      0     0     0      0     0      0  ...   \n",
       " 153       1       0     0    0      0     0     0      0     0      0  ...   \n",
       " 734       0       0     0    0      0     0     0      0     0      0  ...   \n",
       " 180       0       0     0    0      0     0     0      0     0      0  ...   \n",
       " 672       0       0     0    0      0     0     0      0     0      0  ...   \n",
       " \n",
       "      sensation  painful  hr  MonThurs  MonFri  Government  trump  Foster  \\\n",
       " 133          0        0   0         0       0           0      0       0   \n",
       " 136          0        0   0         0       0           0      0       0   \n",
       " 741          0        0   0         0       0           0      0       0   \n",
       " 705          0        0   0         0       0           0      0       0   \n",
       " 67           0        0   0         0       0           0      0       0   \n",
       " ..         ...      ...  ..       ...     ...         ...    ...     ...   \n",
       " 329          0        0   0         0       0           0      0       0   \n",
       " 153          0        0   0         0       0           0      0       0   \n",
       " 734          0        0   0         0       0           0      0       0   \n",
       " 180          0        0   0         0       0           0      0       0   \n",
       " 672          0        0   0         0       0           0      0       0   \n",
       " \n",
       "      Care  System  \n",
       " 133     0       0  \n",
       " 136     0       0  \n",
       " 741     0       0  \n",
       " 705     0       0  \n",
       " 67      0       0  \n",
       " ..    ...     ...  \n",
       " 329     0       0  \n",
       " 153     0       0  \n",
       " 734     0       0  \n",
       " 180     0       0  \n",
       " 672     0       0  \n",
       " \n",
       " [179 rows x 2711 columns],      Score\n",
       " 133  83486\n",
       " 136  82963\n",
       " 741  56593\n",
       " 705  57288\n",
       " 67   94327\n",
       " ..     ...\n",
       " 329  69292\n",
       " 153  81151\n",
       " 734  56702\n",
       " 180  78851\n",
       " 672  58236\n",
       " \n",
       " [179 rows x 1 columns])"
      ]
     },
     "execution_count": 104,
     "metadata": {},
     "output_type": "execute_result"
    }
   ],
   "source": [
    "X_test,y_test"
   ]
  },
  {
   "cell_type": "code",
   "execution_count": 95,
   "metadata": {},
   "outputs": [
    {
     "data": {
      "image/png": "[encoded data removed]",
      "text/plain": [
       "<Figure size 432x288 with 1 Axes>"
      ]
     },
     "metadata": {
      "needs_background": "light"
     },
     "output_type": "display_data"
    }
   ],
   "source": [
    "plt.scatter(x_axiss,pred,s=10)\n",
    "plt.xlabel('x_axiss')\n",
    "plt.ylabel('pred')\n",
    "plt.show()"
   ]
  },
  {
   "cell_type": "code",
   "execution_count": 100,
   "metadata": {},
   "outputs": [
    {
     "data": {
      "image/png": "[encoded data removed]",
      "text/plain": [
       "<Figure size 432x288 with 1 Axes>"
      ]
     },
     "metadata": {
      "needs_background": "light"
     },
     "output_type": "display_data"
    }
   ],
   "source": [
    "plt.scatter(x_axiss,y_test,s=10)\n",
    "plt.xlabel('x_axiss')\n",
    "plt.ylabel('y_test')\n",
    "plt.show()"
   ]
  },
  {
   "cell_type": "code",
   "execution_count": null,
   "metadata": {},
   "outputs": [],
   "source": [
    "import matplotlib.pyplot as plt"
   ]
  },
  {
   "cell_type": "code",
   "execution_count": null,
   "metadata": {},
   "outputs": [],
   "source": [
    "print(X_test.shape,\"\\n\",y_test.shape)"
   ]
  },
  {
   "cell_type": "code",
   "execution_count": null,
   "metadata": {},
   "outputs": [],
   "source": [
    "y_test.plot()"
   ]
  },
  {
   "cell_type": "code",
   "execution_count": null,
   "metadata": {},
   "outputs": [],
   "source": []
  }
 ],
 "metadata": {
  "deepnote_execution_queue": [],
  "deepnote_notebook_id": "555dc197-8c7a-4e06-9bd6-01400e2642e0",
  "kernelspec": {
   "display_name": "Python 3",
   "language": "python",
   "name": "python3"
  },
  "language_info": {
   "codemirror_mode": {
    "name": "ipython",
    "version": 3
   },
   "file_extension": ".py",
   "mimetype": "text/x-python",
   "name": "python",
   "nbconvert_exporter": "python",
   "pygments_lexer": "ipython3",
   "version": "3.6.8"
  }
 },
 "nbformat": 4,
 "nbformat_minor": 4
}
